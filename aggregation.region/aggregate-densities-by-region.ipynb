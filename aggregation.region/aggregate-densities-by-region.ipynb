{
  "cells": [
    {
      "cell_type": "markdown",
      "metadata": {
        "tags": []
      },
      "source": [
        "# Country-level vegetation carbon stock\n",
        "\n",
        "The purpose of this notebook is to serve as interactive documentation for the Vegetation Carbon Stock aggregation script. It is structured in a way that the functions are used immediately after they are declared, allowing the user to perform the country-level aggregation process step-by-step. All the functions defined in this notebook are identical to their Python script counterparts. \n",
        "\n",
        "The script begins by importing all the packages needed to perform the country-level aggregation of vegetation carbon stock:"
      ]
    },
    {
      "cell_type": "code",
      "execution_count": 4,
      "metadata": {},
      "outputs": [],
      "source": [
        "import os\n",
        "import geopandas as gpd\n",
        "import rasterio\n",
        "import rasterio.mask\n",
        "from affine import Affine\n",
        "import numpy as np\n",
        "import pandas as pd\n",
        "import math\n",
        "import platform"
      ]
    },
    {
      "cell_type": "markdown",
      "metadata": {},
      "source": [
        "## Input data\n",
        "The script requires two inputs:\n",
        "- the global carbon stock rasters for each year,\n",
        "- the country polygons shapefile.\n",
        "\n",
        "Later in the script, carbon stock values will be aggregated inside each country polygon. "
      ]
    },
    {
      "cell_type": "code",
      "execution_count": null,
      "metadata": {},
      "outputs": [],
      "source": [
        "vcs_rasters_directory = r\"\\\\akif.internal\\public\\veg_c_storage_rawdata\" # This is the directory containing carbon stock data. \n",
        "country_polygons_file = r\"\\\\akif.internal\\public\\z_resources\\im-wb\\2015_gaul_dataset_mod_2015_gaul_dataset_global_countries_1.shp\" # This is the shapefile storing the country polygons."
      ]
    },
    {
      "cell_type": "markdown",
      "metadata": {},
      "source": [
        "Given the path to the directory containing the carbon stock rasters for each year, the function `get_raster_data` iterates over all the files in the directory and stores the paths inside a list. Later, the script will iterate over this list to load the carbon stock data and perform the country-level aggregation year-by-year. "
      ]
    },
    {
      "cell_type": "code",
      "execution_count": null,
      "metadata": {},
      "outputs": [],
      "source": [
        "def get_raster_data(path):\n",
        "    \"\"\"\n",
        "    get_raster_data creates a list containing the path to each of the files in a given directory.\n",
        "    :param path: the path to the directory.\n",
        "    :return: the list containing the path to each file in the directory.\n",
        "    \"\"\"\n",
        "    file_list = []\n",
        "    for file in os.listdir(path):\n",
        "        # Iterate over all the files in the specified directory.\n",
        "        if \".tif\" in file:\n",
        "            # Process the file if it has a .tif format.\n",
        "            # Build the path according the OS running the script.\n",
        "            if platform.system() is \"Windows\":\n",
        "                address = os.path.join(path, file).replace(\"/\",\"\\\\\")\n",
        "            else:\n",
        "                address = os.path.join(path, file).replace(\"\\\\\",\"/\")\n",
        "                \n",
        "\n",
        "            if address not in file_list:\n",
        "                # Add the file address to the list if it had not been added before.\n",
        "                file_list.append(address)\n",
        "        else:\n",
        "            pass\n",
        "    return file_list\n",
        "\n",
        "vcs_raster_list = get_raster_data(vcs_rasters_directory)"
      ]
    },
    {
      "cell_type": "markdown",
      "metadata": {},
      "source": [
        "The countries' polygons are the same for each year of the analysis, thus a single shapefile is loaded as a GeoDataFrame with the `load_country_polygons` function:"
      ]
    },
    {
      "cell_type": "code",
      "execution_count": null,
      "metadata": {},
      "outputs": [],
      "source": [
        "def load_country_polygons(file):\n",
        "    \"\"\"\n",
        "    load_country_polygons loads the shapefile storing the countries' polygons in a GeoDataFrame.\n",
        "    :param file: the path to the shapefile.\n",
        "    :return: a GeoDataFrame with the data on the countries' polygons.\n",
        "    \"\"\"\n",
        "    # Build the path according the OS running the script.\n",
        "    if platform.system() is \"Windows\":\n",
        "        file = file.replace(\"/\",\"\\\\\")\n",
        "    else:\n",
        "        file = file.replace(\"\\\\\",\"/\")\n",
        "        \n",
        "    gdf = gpd.read_file(file)\n",
        "    return gdf\n",
        "\n",
        "country_polygons = load_country_polygons(country_polygons_file)"
      ]
    },
    {
      "cell_type": "markdown",
      "metadata": {},
      "source": [
        "## Aggregation process\n",
        "\n",
        "This section describes the aggregation process. The aggregation for every year is done inside the function `carbon_stock_aggregation`, however a number of subprocesses used there are defined in separate functions for clarity. In the following lines, these functions are declared and their purpose explained one-by-one.  \n",
        "\n",
        "### Calculating pixel real-area accounting for pixel latitude\n",
        "\n",
        "The global data produced by ARIES is in tonnes of vegetation carbon per hectare, thus the calculation of the total carbon stock per country in tonnes requires the multiplication of each pixel's value by its area. Although in the planar projection all pixels are identical squares, their real area depends on the pixel's latitude, because of the ellipsoid shape of the Earth. The function `area_of_pixel` calculates the area of a pixel given its side length and the latitude of its center:\n"
      ]
    },
    {
      "cell_type": "code",
      "execution_count": null,
      "metadata": {},
      "outputs": [],
      "source": [
        "def area_of_pixel(pixel_size, center_lat):\n",
        "    \"\"\"\n",
        "    area_of_pixel calculates the area, in hectares, of a wgs84 square raster tile. \n",
        "                  This function is adapted from https://gis.stackexchange.com/a/288034.\n",
        "    :param pixel_size: the length of the pixel side in degrees.              \n",
        "    :param center_lat: the latitude of the center of the pixel. This value +/- half the `pixel-size` must not exceed 90/-90 degrees latitude or an invalid area will be calculated.\n",
        "    :return: the area of a square pixel of side length `pixel_size` whose center is at latitude `center_lat` in hectares.\n",
        "    \"\"\"\n",
        "    a = 6378137  # meters\n",
        "    b = 6356752.3142  # meters\n",
        "    e = math.sqrt(1 - (b/a)**2)\n",
        "    area_list = []\n",
        "    for f in [center_lat+pixel_size/2, center_lat-pixel_size/2]:\n",
        "        zm = 1 - e*math.sin(math.radians(f))\n",
        "        zp = 1 + e*math.sin(math.radians(f))\n",
        "        area_list.append(\n",
        "            math.pi * b**2 * (\n",
        "                math.log(zp/zm) / (2*e) +\n",
        "                math.sin(math.radians(f)) / (zp*zm)))\n",
        "    return (pixel_size / 360. * (area_list[0] - area_list[1])) * np.power(10.0,-4) \n",
        "\n",
        "# TODO: Ruben puedes completar y corregir estos ejemplos?\n",
        "area_of_pixel_equator      =  area_of_pixel(0.1,0.0)\n",
        "area_of pixel_tropic       =  area_of_pixel(0.1,23.5)\n",
        "area_of_pixel_polar_circle =  area_of_pixel(0.1,66.33)"
      ]
    },
    {
      "cell_type": "markdown",
      "metadata": {},
      "source": [
        "### Calculating the total carbon stock in a given region \n",
        "\n",
        "Knowing the area of each pixel as a function of its latitude, the calculation of the total carbon stock in a region requires to simply sum for each pixel its value in carbon stock per hectares times its area. The function `get_total_carbon_stock` performs this operation with the raster `out_image`: "
      ]
    },
    {
      "cell_type": "code",
      "execution_count": null,
      "metadata": {},
      "outputs": [],
      "source": [
        "def get_total_carbon_stock(out_image, out_transform, pixel_size, width_0, height_0, width_1, height_1):\n",
        "    \"\"\"\n",
        "    get_total_carbon_stock calculates the total carbon stock from a raster with with data on the carbon stock per hectare.\n",
        "    \n",
        "    :param out_image: is the baseline raster layer, in the context of this script the vegetation carbon stock raster.\n",
        "    :param out_transform: the Affine containing the transformation matrix with latitude and longitude values, resolution, etc.\n",
        "    :param : TODO: Completar el resto de parametros.\n",
        "    :param pixel_size: is the side length in degrees of each square raster tile.\n",
        "    :return: the total carbon stock extracted from the raster.\n",
        "    \"\"\"\n",
        "    # Create a matrix of coordinates based on tile number.\n",
        "    cols, rows = np.meshgrid(np.arange(width_0, width_1), np.arange(height_0, height_1))\n",
        "    \n",
        "    # Transform the tile number coordinates to real coordinates and extract only latitude information. \n",
        "    ys = rasterio.transform.xy(out_transform, rows, cols)[1] # [0] is xs\n",
        "    latitudes = np.array(ys) # Cast the list of arrays to a 2D array for computational convenience.\n",
        "\n",
        "    # Iterate over the latitudes matrix, calculate the area of each tile, and store it in the real_raster_areas array.\n",
        "    real_raster_areas = np.empty(np.shape(latitudes))\n",
        "    for i, latitude_array in enumerate(latitudes):\n",
        "        for j, latitude in enumerate(latitude_array):\n",
        "            real_raster_areas[i,j] = area_of_pixel(pixel_size, latitude)\n",
        "\n",
        "    # Calculate the total carbon stock in each tile: tonnes/hectare * hectares = tonnes.    \n",
        "    total_carbon_stock_array = real_raster_areas * out_image[0,height_0:height_1,width_0:width_1] #I don't think np.transpose() is necesary\n",
        "\n",
        "    # Sum all the carbon stock values in the country treating NaNs as 0.0. \n",
        "    total_carbon_stock = np.nansum(total_carbon_stock_array) \n",
        "\n",
        "    return total_carbon_stock\n",
        "\n",
        "# TODO: Ruben se te ocurre como poner algun ejemplo con esto?"
      ]
    },
    {
      "cell_type": "markdown",
      "metadata": {
        "tags": []
      },
      "source": [
        "For most of the countries, `get_total_carbon_stock` is called at whole the country-level, however when the `out_image` raster of the country is too large in size calling the function results in a buffer overflow.\n",
        "\n",
        "### Splitting large countries in different sections to avoid buffer overflows\n",
        "\n",
        "Some large countries, such as Russia, or the United States, as well as some archipelagic countries require to load in memory rasters that are too large in size, potentially causing memory errors. The purpose of the function `carbon_stock_raster_tiling` is to avoid memory errors by splitting problematic countries' carbon stock rasters in smaller square sections when the raster size exceeds 3Gb. Inside the function, the vegetation carbon stock is calculated for each section separately and then summed to obtain the total value for the country:"
      ]
    },
    {
      "cell_type": "code",
      "execution_count": null,
      "metadata": {},
      "outputs": [],
      "source": [
        "def carbon_stock_raster_tiling(out_image, out_transform, pixel_size, width, height):\n",
        "    \"\"\"\n",
        "    raster_tiling calculates the carbon stock in large countries by splitting the country in sections and then aggregating each section's stock.\n",
        "    \n",
        "    :param out_image: the masked raster layer, in the context of this script the vegetation carbon stock raster.\n",
        "    :param out_transform: the Affine containing the transformation matrix with latitude and longitude values, resolution...\n",
        "    :param pixel_size: the side length in degrees of each square raster tile.\n",
        "    :param width: the width of the masked layer.\n",
        "    :param height: the height of the masked layer.   \n",
        "    :return: the value of the total carbon stock for the country.\n",
        "    \"\"\"\n",
        "    tilesize = 1000\n",
        "    total_acumulated_carbon_stock = 0\n",
        "\n",
        "    for i in range(0, width, tilesize): #tilesize marks from where to where in width\n",
        "        for j in range(0, height, tilesize):\n",
        "            #this is for the edge parts, so we don't get nodata from the borders\n",
        "            w0 = i #start of the array\n",
        "            w_plus = min(i+tilesize, width) - i #addition value\n",
        "            w1 = w0 + w_plus #end of the array\n",
        "            h0 = j #start of the array\n",
        "            h_plus = min(j+tilesize, height) - j #addition value\n",
        "            h1 = h0 + h_plus #end of the array\n",
        "\n",
        "            total_carbon_stock = get_total_carbon_stock(out_image, out_transform, pixel_size, w0, h0, w1, h1)\n",
        "\n",
        "            total_acumulated_carbon_stock += total_carbon_stock\n",
        "\n",
        "    return total_acumulated_carbon_stock\n",
        "\n",
        "# TODO: Ruben te imaginas algun ejemplo aqui?"
      ]
    },
    {
      "cell_type": "markdown",
      "metadata": {},
      "source": [
        "### Aggregating carbon stock for every country and every year\n",
        "\n",
        "Finally, the functions declared above are used to perform the aggregation process for every country and every year. The function `carbon_stock_aggregation` simply iterates over each year's global carbon stock raster file and each country and masks the global raster file with the polygon corresponding to the country. Then it calculates the aggregated carbon stocks calling `get_total_carbon_stock` or `raster_tiling` when the masked rasters are larger than 3Gb. The results are progressively stored in a DataFrame that is exported to CSV format after every year. When all the years were correctly processed, the function returns the complete DataFrame with the carbon stock per country for every year of the analysis."
      ]
    },
    {
      "cell_type": "code",
      "execution_count": null,
      "metadata": {},
      "outputs": [],
      "source": [
        "def carbon_stock_aggregation(raster_files_list, country_polygons):\n",
        "    \"\"\"\n",
        "    carbon_stock_aggregation aggregates vegetation carbon stock data in Tonnes per Hectare and with a resolution of 300m at the country level. \n",
        "                             The result of the aggregation is the total vegetation carbon stock in Tonnes for each country. Naturally, the \n",
        "                             dependence of raster tile area on the latitude is taken into account. The function iterates over the carbon stock \n",
        "                             rasters corresponding to different years.\n",
        "    \n",
        "    :param raster_files_list: a list containing the addresses of all the raster files that store the vegetation carbon stock data for each year.\n",
        "    :param country_polygons: a GeoDataFrame storing the polygons corresponding to each country for the entire world.\n",
        "    :return: a DataFrame storing the aggregated vegetation carbon stocks at the country level for each year.\n",
        "    \"\"\"\n",
        "    \n",
        "    # Final DataFrame will store the aggregated carbon stocks for each country and each year. \n",
        "    aggregated_carbon_stock_df = pd.DataFrame([])\n",
        "    \n",
        "    for file in raster_files_list[:]: # [10:]\n",
        "        # Iterate over all the raster files' addresses and extract the year from the address. \n",
        "        filename_length = 24 # This is the number of characters in the raster file name if the convention \"vcs_YYYY_global_300m.tif\" is followed.\n",
        "        start = len(file) - filename_length\n",
        "        year_string_start = file.find(\"vcs_\",start)\n",
        "        file_year = str( file[ year_string_start + 4 : year_string_start + 8] )\n",
        "        \n",
        "        print(\"We are working with the file {} from the year {}\".format(file, file_year))\n",
        "\n",
        "        aggregated_carbon_stock_list = [] # This list will store the results from the aggregation. \n",
        "\n",
        "        with rasterio.open(file) as raster_file: # Load the raster file.\n",
        "\n",
        "            gt = raster_file.transform # Get all the raster properties on a list.\n",
        "            pixel_size = gt[0] # X size is stored in position 0, Y size is stored in position 4.\n",
        "\n",
        "            for row_index, row in country_polygons.iterrows(): # gdf.loc[0:1].iterrows():\n",
        "                # Iterate over the country polygons to progressively calculate the total carbon stock in each one of them.\n",
        "                \n",
        "                geo_row = gpd.GeoSeries(row['geometry']) # This is the country's polygon geometry.\n",
        "\n",
        "                # Masks the raster over the current country. The masking requires two outputs:\n",
        "                # out_image: the array of the masked image. [z, y, x]\n",
        "                # out_transform: the Affine containing the transformation matrix with lat / long values, resolution...\n",
        "                out_image, out_transform = rasterio.mask.mask(raster_file, geo_row, crop=True) \n",
        "                \n",
        "                # Obtain the number of tiles in both directions.\n",
        "                height = out_image.shape[1]\n",
        "                width  = out_image.shape[2]\n",
        "\n",
        "                #check the size of the raster image\n",
        "                if out_image.nbytes > (3* 10**9):\n",
        "                    print(\"the country {} exceeds 3Gb of memory, we will split the array in tiles of 1000. Current size is GB: {} \".format(row[\"ADM0_NAME\"], (out_image.nbytes) / np.power(10.0,9)))\n",
        "\n",
        "                    total_carbon_stock = carbon_stock_raster_tiling(out_image, out_transform, pixel_size, width, height)\n",
        "\n",
        "                else:\n",
        "                    # Create a global raster where each pixel's value corresponds to its true area in hectares.\n",
        "                    total_carbon_stock = get_total_carbon_stock(out_image, out_transform, pixel_size, 0, 0, width, height) \n",
        "                \n",
        "                # Add the aggregated stock to the list.\n",
        "                aggregated_carbon_stock_list.append(total_carbon_stock)  \n",
        "\n",
        "                print(\"the country {} is finished\".format(row[\"ADM0_NAME\"]))\n",
        "                \n",
        "        print(\"Finished calculating {} year raster\".format(file_year))\n",
        "    \n",
        "        # Transform the list to a DataFrame using the year as header.\n",
        "        aggregated_carbon_stock = pd.DataFrame(aggregated_carbon_stock_list, columns = [file_year]) \n",
        "\n",
        "        # Merge this year's carbon stocks to the final, multi-year DataFrame.\n",
        "        aggregated_carbon_stock_df = pd.merge(aggregated_carbon_stock_df, aggregated_carbon_stock, how='outer', left_index = True, right_index=True)\n",
        "\n",
        "        #export the carbon stock year as a backup \n",
        "        aggregated_carbon_stock.to_csv(\"carbon_stock_{}.csv\".format(file_year))\n",
        "\n",
        "    return aggregated_carbon_stock_df\n",
        "\n",
        "# TODO: ejemplo estaría bien también. Algo que pueda correr rapidito en un laptop personal."
      ]
    },
    {
      "cell_type": "markdown",
      "metadata": {},
      "source": [
        "### Output data\n",
        "\n",
        "After the aggregation process is finished, the generated DataFrame is exported to a file in CSV format."
      ]
    },
    {
      "cell_type": "code",
      "execution_count": null,
      "metadata": {},
      "outputs": [],
      "source": [
        "def export_to_csv(country_polygons, aggregated_carbon_stocks):   \n",
        "    \"\"\"\n",
        "    export_to_csv creates a \"total_carbon_test.csv\" file in the current working directory that contains the total vegetation carbon stock for each country.\n",
        "    \n",
        "    :param country_polygons: a GeoDataFrame storing the polygons corresponding to each country for the entire world.\n",
        "    :param aggregated_carbon_stocks: a DataFrame storing the aggregated carbon stock values to be associated with each country.\n",
        "    \"\"\"\n",
        "    # Create a DataFrame based on the country border GeoDataFrame and dropping unnecessary information to keep only: the polygons' Id, country codes, and administrative names.\n",
        "    df_final = pd.DataFrame(country_polygons.drop(columns='geometry'))\n",
        "    df_final = df_final.drop([\"STATUS\", \"DISP_AREA\", \"ADM0_CODE\", \"STR0_YEAR\", \"EXP0_YEAR\", \"Shape_Leng\", \"ISO3166_1_\", \"ISO3166__1\", \"Shape_Le_1\", \"Shape_Area\"], axis = 1)\n",
        "\n",
        "    # Join the depurated country DataFrame with the aggregated vegetation carbon stocks to associate each country with its total stock.  \n",
        "    df_final = df_final.join(aggregated_carbon_stocks)\n",
        "        \n",
        "    # Export the result to the current working directory.\n",
        "    df_final.to_csv(\"total_carbon.csv\")"
      ]
    },
    {
      "cell_type": "markdown",
      "metadata": {},
      "source": [
        "## Running the whole script\n",
        "\n",
        "In the Python script the analysis is performed after declaring every function and with the following commands: "
      ]
    },
    {
      "cell_type": "code",
      "execution_count": null,
      "metadata": {},
      "outputs": [],
      "source": [
        "# Loading the Input data.\n",
        "print(\"Loading data.\")\n",
        "vcs_rasters_list = get_raster_data(vcs_rasters_directory) \n",
        "country_polygons = load_country_polygons(country_polygons_file) \n",
        "print(\"Data was loaded succesfully.\")\n",
        "\n",
        "# Performing the country-level aggregation for every year.\n",
        "print(\"Starting aggregation process.\")\n",
        "vcs_aggregated   = carbon_stock_aggregation(vcs_rasters_list, country_polygons) \n",
        "print(\"Aggregation of vegetation carbon stocks at the country level finished.\")\n",
        "\n",
        "# Exporting final DataFrame to CSV.\n",
        "print(\"Exporting the results.\")\n",
        "export_to_csv(country_polygons, vcs_aggregated) \n",
        "print(\"Total vegetation carbon stocks at the country level succesfully exported.\")"
      ]
    }
  ],
  "metadata": {
    "kernelspec": {
      "display_name": "Python (Pyodide)",
      "language": "python",
      "name": "python"
    },
    "language_info": {
      "codemirror_mode": {
        "name": "python",
        "version": 3
      },
      "file_extension": ".py",
      "mimetype": "text/x-python",
      "name": "python",
      "nbconvert_exporter": "python",
      "pygments_lexer": "ipython3",
      "version": "3.8"
    },
    "vscode": {
      "interpreter": {
        "hash": "73dbe77fa795adcd611523c0e13571b3f618ba9f055bda7fe5e0bb2cbf3117e9"
      }
    }
  },
  "nbformat": 4,
  "nbformat_minor": 4
}
