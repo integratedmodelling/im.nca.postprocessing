{
 "cells": [
  {
   "cell_type": "code",
   "execution_count": 33,
   "metadata": {},
   "outputs": [],
   "source": [
    "\"\"\"required libraries\"\"\"\n",
    "import os\n",
    "import pandas as pd\n",
    "import re"
   ]
  },
  {
   "cell_type": "code",
   "execution_count": 21,
   "metadata": {},
   "outputs": [
    {
     "name": "stdout",
     "output_type": "stream",
     "text": [
      "[]\n"
     ]
    }
   ],
   "source": [
    "\"\"\"Check if every year/class has all the files\"\"\"\n",
    "path = \"Z:/veg_c_storage_rawdata/vegetation_carbon_stock_landcover_global_results\"\n",
    "os.chdir(path)\n",
    "files = os.listdir(path)\n",
    "\n",
    "error_files = []\n",
    "for file in files: # [0:1]\n",
    "    results_df = pd.read_csv(file)\n",
    "    # There will be total csv and the ones for year / LC.\n",
    "    # Here we filter the total ones\n",
    "    if file.startswith(\"vegetation\"): \n",
    "        if len(results_df) != 265: # It has to take all 265 countries\n",
    "            error_files.append(file)\n",
    "        else:\n",
    "            continue\n",
    "         \n",
    "    #TODO: we can also check countries that contain -9999 values. These ones might need to be recalculated\n",
    "print(error_files)"
   ]
  },
  {
   "cell_type": "code",
   "execution_count": null,
   "metadata": {},
   "outputs": [],
   "source": [
    "\"\"\"create the sentence to move all the rasters that are processed from one folder to another\"\"\"\n",
    "\n",
    "raster_path = r\"/home/ubuntu/vcs_wb/by_landcover/vegetation_carbon_stock_landcover_global/\"\n",
    "raster_destination = r\"/home/ubuntu/vcs_wb/by_landcover/already_processed_layers\"\n",
    "\n",
    "sentence_list = []\n",
    "for file in files: # [0:1]\n",
    "    landcover_class = re.findall(r'\\d+', file)[1]\n",
    "    year = re.findall(r'\\d+', file)[0]\n",
    "    results_df = pd.read_csv(file)\n",
    "    if file.startswith(\"vegetation\"):\n",
    "        #create the sentence\n",
    "        sentence = \"mv \" + raster_path + \"vcs_\" + year + \"_global_300m_\" + landcover_class + \".tif \" + raster_destination\n",
    "        sentence_list.append(sentence)\n",
    "        \n",
    "# mv /home/ubuntu/vcs_wb/by_landcover/vegetation_carbon_stock_landcover_global/vcs_2001_global_300m_72.tif /home/ubuntu/vcs_wb/by_landcover/already_processed_layers\n",
    "print(sentence_list[0:1])\n"
   ]
  },
  {
   "cell_type": "code",
   "execution_count": 37,
   "metadata": {},
   "outputs": [],
   "source": [
    "\"\"\"Export the sentence list into a table, copy and paste the result into the folder\"\"\"\n",
    "output_df = pd.Series(sentence_list)\n",
    "output_df.to_csv('sentence_list.csv') "
   ]
  }
 ],
 "metadata": {
  "kernelspec": {
   "display_name": "geoprocessing",
   "language": "python",
   "name": "python3"
  },
  "language_info": {
   "codemirror_mode": {
    "name": "ipython",
    "version": 3
   },
   "file_extension": ".py",
   "mimetype": "text/x-python",
   "name": "python",
   "nbconvert_exporter": "python",
   "pygments_lexer": "ipython3",
   "version": "3.9.12"
  },
  "orig_nbformat": 4
 },
 "nbformat": 4,
 "nbformat_minor": 2
}
