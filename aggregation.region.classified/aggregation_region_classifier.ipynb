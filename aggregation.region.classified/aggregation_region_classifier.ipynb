{
 "cells": [
  {
   "cell_type": "code",
   "execution_count": 1,
   "metadata": {},
   "outputs": [],
   "source": [
    "import os\n",
    "from multiprocessing import Pool\n",
    "\n",
    "import sys\n",
    "sys.path.insert(1, '../aggregation.region') # this works\n",
    "# from aggregate_density_observable_by_region import get_raster_data\n",
    "import aggregate_density_observable_by_region as ado\n"
   ]
  },
  {
   "cell_type": "code",
   "execution_count": 2,
   "metadata": {},
   "outputs": [],
   "source": [
    "# raster_directory = r\"\\\\akif.internal\\public\\veg_c_storage_rawdata\\vegetation_carbon_stock_landcover_global\"\n",
    "raster_directory = r\"Z:\\veg_c_storage_rawdata\\vegetation_carbon_stock_landcover_global\"\n",
    "\n",
    "# Path to the shapefile containing the data on region polygons that are to be\n",
    "# used in the aggregation.\n",
    "# region_polygons_file = r\"\\\\akif.internal\\public\\veg_c_storage_rawdata\\wb_global_countries\\2015_gaul_dataset_mod_2015_gaul_dataset_global_countries_1.shp\"\n",
    "region_polygons_file = r\"Z:\\veg_c_storage_rawdata\\wb_global_countries\\2015_gaul_dataset_mod_2015_gaul_dataset_global_countries_1.shp\"\n",
    "\n",
    "# Name of the observable to aggregate. This will be used as a prefix for the\n",
    "# temporary results filenames. A suffix \"_YYYY.csv\" will be appended to this\n",
    "# name. The directory for the temporary exports is defined below.\n",
    "observable_name = \"vegetation-carbon-stock\"\n",
    "\n",
    "# Path for the temporal exports of the aggregation process after each raster\n",
    "# processed.\n",
    "temp_export_dir = \"./vegetation.carbon.stock/tmp/vcs.aggregated.country/\"\n",
    "\n",
    "# Path to export the final dataset.\n",
    "export_path = \"./vegetation.carbon.stock/vcs-aggregated-country-landcover.csv\""
   ]
  },
  {
   "cell_type": "code",
   "execution_count": 3,
   "metadata": {},
   "outputs": [
    {
     "name": "stdout",
     "output_type": "stream",
     "text": [
      "Data loaded succesfully.\n"
     ]
    }
   ],
   "source": [
    "raster_list = ado.get_raster_data(raster_directory)\n",
    "region_polygons = ado.load_region_polygons(region_polygons_file)\n",
    "print(\"Data loaded succesfully.\")\n",
    "# time 14s"
   ]
  },
  {
   "cell_type": "code",
   "execution_count": 4,
   "metadata": {},
   "outputs": [
    {
     "name": "stdout",
     "output_type": "stream",
     "text": [
      "Starting aggregation process.\n",
      "starting Pool\n"
     ]
    }
   ],
   "source": [
    "# Full path for temporary exports per ladncover and year.\n",
    "temp_export_path = temp_export_dir + observable_name\n",
    "\n",
    "print(\"Starting aggregation process.\")\n",
    "#list of years to compute\n",
    "year_list = range(2000,2004)\n",
    "argument_list = ado.parallel_argument_list(year_list, raster_list, region_polygons, temp_export_path)\n",
    "with Pool() as pool:\n",
    "    print(\"starting Pool\")\n",
    "    result = pool.starmap(ado.aggregate_density_observable,argument_list)\n",
    "    print(result)\n",
    "        \n",
    "        \n",
    "# aggregated_observable = ado.aggregate_density_observable(raster_list, region_polygons, temp_export_path)\n",
    "print(\"Aggregation finished.\")\n"
   ]
  },
  {
   "cell_type": "code",
   "execution_count": 9,
   "metadata": {},
   "outputs": [
    {
     "name": "stdout",
     "output_type": "stream",
     "text": [
      "[(['Z:\\\\veg_c_storage_rawdata\\\\vegetation_carbon_stock_landcover_global\\\\vcs_2000_global_300m_130.tif', 'Z:\\\\veg_c_storage_rawdata\\\\vegetation_carbon_stock_landcover_global\\\\vcs_2000_global_300m_90.tif', 'Z:\\\\veg_c_storage_rawdata\\\\vegetation_carbon_stock_landcover_global\\\\vcs_2000_global_300m_20.tif', 'Z:\\\\veg_c_storage_rawdata\\\\vegetation_carbon_stock_landcover_global\\\\vcs_2000_global_300m_70.tif', 'Z:\\\\veg_c_storage_rawdata\\\\vegetation_carbon_stock_landcover_global\\\\vcs_2000_global_300m_160.tif', 'Z:\\\\veg_c_storage_rawdata\\\\vegetation_carbon_stock_landcover_global\\\\vcs_2000_global_300m_60.tif', 'Z:\\\\veg_c_storage_rawdata\\\\vegetation_carbon_stock_landcover_global\\\\vcs_2000_global_300m_80.tif', 'Z:\\\\veg_c_storage_rawdata\\\\vegetation_carbon_stock_landcover_global\\\\vcs_2000_global_300m_200.tif', 'Z:\\\\veg_c_storage_rawdata\\\\vegetation_carbon_stock_landcover_global\\\\vcs_2000_global_300m_50.tif', 'Z:\\\\veg_c_storage_rawdata\\\\vegetation_carbon_stock_landcover_global\\\\vcs_2000_global_300m_110.tif', 'Z:\\\\veg_c_storage_rawdata\\\\vegetation_carbon_stock_landcover_global\\\\vcs_2000_global_300m_220.tif', 'Z:\\\\veg_c_storage_rawdata\\\\vegetation_carbon_stock_landcover_global\\\\vcs_2000_global_300m_180.tif', 'Z:\\\\veg_c_storage_rawdata\\\\vegetation_carbon_stock_landcover_global\\\\vcs_2000_global_300m_150.tif', 'Z:\\\\veg_c_storage_rawdata\\\\vegetation_carbon_stock_landcover_global\\\\vcs_2000_global_300m_100.tif', 'Z:\\\\veg_c_storage_rawdata\\\\vegetation_carbon_stock_landcover_global\\\\vcs_2000_global_300m_140.tif', 'Z:\\\\veg_c_storage_rawdata\\\\vegetation_carbon_stock_landcover_global\\\\vcs_2000_global_300m_190.tif', 'Z:\\\\veg_c_storage_rawdata\\\\vegetation_carbon_stock_landcover_global\\\\vcs_2000_global_300m_10.tif', 'Z:\\\\veg_c_storage_rawdata\\\\vegetation_carbon_stock_landcover_global\\\\vcs_2000_global_300m_210.tif', 'Z:\\\\veg_c_storage_rawdata\\\\vegetation_carbon_stock_landcover_global\\\\vcs_2000_global_300m_40.tif', 'Z:\\\\veg_c_storage_rawdata\\\\vegetation_carbon_stock_landcover_global\\\\vcs_2000_global_300m_30.tif', 'Z:\\\\veg_c_storage_rawdata\\\\vegetation_carbon_stock_landcover_global\\\\vcs_2000_global_300m_170.tif', 'Z:\\\\veg_c_storage_rawdata\\\\vegetation_carbon_stock_landcover_global\\\\vcs_2000_global_300m_120.tif'],      OBJECTID                          STATUS DISP_AREA  ADM0_CODE  \\\n",
      "0         1.0                    Member State        NO      170.0   \n",
      "1         2.0                    Member State        NO      160.0   \n",
      "2         3.0                    Member State        NO      152.0   \n",
      "3         4.0                    Member State        NO      205.0   \n",
      "4         5.0                    Member State        NO      226.0   \n",
      "..        ...                             ...       ...        ...   \n",
      "260     261.0           Sovereignty unsettled       YES        2.0   \n",
      "261     262.0           Sovereignty unsettled       YES       15.0   \n",
      "262     263.0  Occupied Palestinian Territory        NO    75000.0   \n",
      "263     264.0                            None      None        2.0   \n",
      "264     265.0           Sovereignty unsettled       YES      136.0   \n",
      "\n",
      "                    ADM0_NAME  STR0_YEAR  EXP0_YEAR  Shape_Leng ISO3166_1_  \\\n",
      "0                  Mozambique       1000       3000   82.563372        MOZ   \n",
      "1                   Mauritius       1000       3000    5.204094        MUS   \n",
      "2                      Malawi       1000       3000   26.999900        MWI   \n",
      "3                      Rwanda       1000       3000    8.127003        RWA   \n",
      "4                     Somalia       1000       3000   57.475198        SOM   \n",
      "..                        ...        ...        ...         ...        ...   \n",
      "260             Disputed Area       1000       3000   10.774006       None   \n",
      "261             Disputed Area       1000       3000   18.812940       None   \n",
      "262        No Man's Land Area       1000       3000    1.474027       None   \n",
      "263  UN Buffer Zone in Cyprus          0          0    0.000000       None   \n",
      "264             Kuril islands       1000       3000   16.403421       None   \n",
      "\n",
      "    Country_Co ISO3166__1 Country__1  Shape_Le_1  Shape_Area  \\\n",
      "0          MOZ         MZ         MZ   82.563372   67.058939   \n",
      "1          MUS         MU         MU    5.204094    0.173992   \n",
      "2          MWI         MW         MW   26.999900    9.905567   \n",
      "3          RWA         RW         RW    8.127003    2.063852   \n",
      "4          SOM         SO         SO   57.475198   51.766612   \n",
      "..         ...        ...        ...         ...         ...   \n",
      "260       None       None       None   10.774006    3.028950   \n",
      "261       None       None       None   19.365004    6.182990   \n",
      "262       None       None       None    1.474027    0.007599   \n",
      "263       None       None       None    3.474578    0.031777   \n",
      "264       None       None       None   16.403421    0.567451   \n",
      "\n",
      "                                              geometry  \n",
      "0    MULTIPOLYGON (((32.99153 -25.97012, 32.99189 -...  \n",
      "1    MULTIPOLYGON (((57.33786 -20.47313, 57.33677 -...  \n",
      "2    MULTIPOLYGON (((34.76880 -12.09417, 34.72768 -...  \n",
      "3    POLYGON ((30.47352 -1.05741, 30.47035 -1.05937...  \n",
      "4    MULTIPOLYGON (((41.57762 -1.66024, 41.57721 -1...  \n",
      "..                                                 ...  \n",
      "260  POLYGON ((78.94793 33.37869, 78.93791 33.38219...  \n",
      "261  POLYGON ((94.31973 27.59004, 94.31971 27.59005...  \n",
      "262  POLYGON ((34.98633 31.96448, 34.98590 31.96140...  \n",
      "263  MULTIPOLYGON (((33.93342 35.06865, 33.93398 35...  \n",
      "264  MULTIPOLYGON (((146.00849 43.36211, 146.00844 ...  \n",
      "\n",
      "[265 rows x 15 columns], './vegetation.carbon.stock/tmp/vcs.aggregated.country/vegetation-carbon-stock'), (['Z:\\\\veg_c_storage_rawdata\\\\vegetation_carbon_stock_landcover_global\\\\vcs_2001_global_300m_20.tif', 'Z:\\\\veg_c_storage_rawdata\\\\vegetation_carbon_stock_landcover_global\\\\vcs_2001_global_300m_30.tif', 'Z:\\\\veg_c_storage_rawdata\\\\vegetation_carbon_stock_landcover_global\\\\vcs_2001_global_300m_210.tif', 'Z:\\\\veg_c_storage_rawdata\\\\vegetation_carbon_stock_landcover_global\\\\vcs_2001_global_300m_180.tif', 'Z:\\\\veg_c_storage_rawdata\\\\vegetation_carbon_stock_landcover_global\\\\vcs_2001_global_300m_120.tif', 'Z:\\\\veg_c_storage_rawdata\\\\vegetation_carbon_stock_landcover_global\\\\vcs_2001_global_300m_40.tif', 'Z:\\\\veg_c_storage_rawdata\\\\vegetation_carbon_stock_landcover_global\\\\vcs_2001_global_300m_70.tif', 'Z:\\\\veg_c_storage_rawdata\\\\vegetation_carbon_stock_landcover_global\\\\vcs_2001_global_300m_110.tif', 'Z:\\\\veg_c_storage_rawdata\\\\vegetation_carbon_stock_landcover_global\\\\vcs_2001_global_300m_10.tif', 'Z:\\\\veg_c_storage_rawdata\\\\vegetation_carbon_stock_landcover_global\\\\vcs_2001_global_300m_220.tif', 'Z:\\\\veg_c_storage_rawdata\\\\vegetation_carbon_stock_landcover_global\\\\vcs_2001_global_300m_140.tif', 'Z:\\\\veg_c_storage_rawdata\\\\vegetation_carbon_stock_landcover_global\\\\vcs_2001_global_300m_80.tif', 'Z:\\\\veg_c_storage_rawdata\\\\vegetation_carbon_stock_landcover_global\\\\vcs_2001_global_300m_130.tif', 'Z:\\\\veg_c_storage_rawdata\\\\vegetation_carbon_stock_landcover_global\\\\vcs_2001_global_300m_150.tif', 'Z:\\\\veg_c_storage_rawdata\\\\vegetation_carbon_stock_landcover_global\\\\vcs_2001_global_300m_170.tif', 'Z:\\\\veg_c_storage_rawdata\\\\vegetation_carbon_stock_landcover_global\\\\vcs_2001_global_300m_90.tif', 'Z:\\\\veg_c_storage_rawdata\\\\vegetation_carbon_stock_landcover_global\\\\vcs_2001_global_300m_160.tif', 'Z:\\\\veg_c_storage_rawdata\\\\vegetation_carbon_stock_landcover_global\\\\vcs_2001_global_300m_50.tif', 'Z:\\\\veg_c_storage_rawdata\\\\vegetation_carbon_stock_landcover_global\\\\vcs_2001_global_300m_200.tif', 'Z:\\\\veg_c_storage_rawdata\\\\vegetation_carbon_stock_landcover_global\\\\vcs_2001_global_300m_60.tif', 'Z:\\\\veg_c_storage_rawdata\\\\vegetation_carbon_stock_landcover_global\\\\vcs_2001_global_300m_100.tif', 'Z:\\\\veg_c_storage_rawdata\\\\vegetation_carbon_stock_landcover_global\\\\vcs_2001_global_300m_190.tif'],      OBJECTID                          STATUS DISP_AREA  ADM0_CODE  \\\n",
      "0         1.0                    Member State        NO      170.0   \n",
      "1         2.0                    Member State        NO      160.0   \n",
      "2         3.0                    Member State        NO      152.0   \n",
      "3         4.0                    Member State        NO      205.0   \n",
      "4         5.0                    Member State        NO      226.0   \n",
      "..        ...                             ...       ...        ...   \n",
      "260     261.0           Sovereignty unsettled       YES        2.0   \n",
      "261     262.0           Sovereignty unsettled       YES       15.0   \n",
      "262     263.0  Occupied Palestinian Territory        NO    75000.0   \n",
      "263     264.0                            None      None        2.0   \n",
      "264     265.0           Sovereignty unsettled       YES      136.0   \n",
      "\n",
      "                    ADM0_NAME  STR0_YEAR  EXP0_YEAR  Shape_Leng ISO3166_1_  \\\n",
      "0                  Mozambique       1000       3000   82.563372        MOZ   \n",
      "1                   Mauritius       1000       3000    5.204094        MUS   \n",
      "2                      Malawi       1000       3000   26.999900        MWI   \n",
      "3                      Rwanda       1000       3000    8.127003        RWA   \n",
      "4                     Somalia       1000       3000   57.475198        SOM   \n",
      "..                        ...        ...        ...         ...        ...   \n",
      "260             Disputed Area       1000       3000   10.774006       None   \n",
      "261             Disputed Area       1000       3000   18.812940       None   \n",
      "262        No Man's Land Area       1000       3000    1.474027       None   \n",
      "263  UN Buffer Zone in Cyprus          0          0    0.000000       None   \n",
      "264             Kuril islands       1000       3000   16.403421       None   \n",
      "\n",
      "    Country_Co ISO3166__1 Country__1  Shape_Le_1  Shape_Area  \\\n",
      "0          MOZ         MZ         MZ   82.563372   67.058939   \n",
      "1          MUS         MU         MU    5.204094    0.173992   \n",
      "2          MWI         MW         MW   26.999900    9.905567   \n",
      "3          RWA         RW         RW    8.127003    2.063852   \n",
      "4          SOM         SO         SO   57.475198   51.766612   \n",
      "..         ...        ...        ...         ...         ...   \n",
      "260       None       None       None   10.774006    3.028950   \n",
      "261       None       None       None   19.365004    6.182990   \n",
      "262       None       None       None    1.474027    0.007599   \n",
      "263       None       None       None    3.474578    0.031777   \n",
      "264       None       None       None   16.403421    0.567451   \n",
      "\n",
      "                                              geometry  \n",
      "0    MULTIPOLYGON (((32.99153 -25.97012, 32.99189 -...  \n",
      "1    MULTIPOLYGON (((57.33786 -20.47313, 57.33677 -...  \n",
      "2    MULTIPOLYGON (((34.76880 -12.09417, 34.72768 -...  \n",
      "3    POLYGON ((30.47352 -1.05741, 30.47035 -1.05937...  \n",
      "4    MULTIPOLYGON (((41.57762 -1.66024, 41.57721 -1...  \n",
      "..                                                 ...  \n",
      "260  POLYGON ((78.94793 33.37869, 78.93791 33.38219...  \n",
      "261  POLYGON ((94.31973 27.59004, 94.31971 27.59005...  \n",
      "262  POLYGON ((34.98633 31.96448, 34.98590 31.96140...  \n",
      "263  MULTIPOLYGON (((33.93342 35.06865, 33.93398 35...  \n",
      "264  MULTIPOLYGON (((146.00849 43.36211, 146.00844 ...  \n",
      "\n",
      "[265 rows x 15 columns], './vegetation.carbon.stock/tmp/vcs.aggregated.country/vegetation-carbon-stock')]\n"
     ]
    }
   ],
   "source": [
    "print(argument_list[0:2])"
   ]
  },
  {
   "cell_type": "code",
   "execution_count": null,
   "metadata": {},
   "outputs": [],
   "source": [
    "\n",
    "print(\"Exporting the aggregated dataset.\")\n",
    "ado.export_to_csv(region_polygons, aggregated_observable, export_path)\n",
    "print(\"Done.\")\n",
    "print(raster_list[1:2])"
   ]
  },
  {
   "cell_type": "code",
   "execution_count": null,
   "metadata": {},
   "outputs": [],
   "source": [
    "   \n",
    "    \n",
    "        \n",
    "    print(\"Aggregation finished.\")\n",
    "    # aggregated_observable = aggregate_density_observable(raster_list, region_polygons, temp_export_path)\n",
    "\n",
    "\n",
    "    print(\"Exporting the aggregated dataset.\")\n",
    "    # export_to_csv(region_polygons, result, export_path)\n",
    "    print(\"Done.\")"
   ]
  }
 ],
 "metadata": {
  "kernelspec": {
   "display_name": "gdal_env",
   "language": "python",
   "name": "python3"
  },
  "language_info": {
   "codemirror_mode": {
    "name": "ipython",
    "version": 3
   },
   "file_extension": ".py",
   "mimetype": "text/x-python",
   "name": "python",
   "nbconvert_exporter": "python",
   "pygments_lexer": "ipython3",
   "version": "3.7.12"
  },
  "orig_nbformat": 4,
  "vscode": {
   "interpreter": {
    "hash": "13fb4f61f9b1971e99363de4d9200a528ac37b1d4677b1025546b3653dbc06d9"
   }
  }
 },
 "nbformat": 4,
 "nbformat_minor": 2
}
