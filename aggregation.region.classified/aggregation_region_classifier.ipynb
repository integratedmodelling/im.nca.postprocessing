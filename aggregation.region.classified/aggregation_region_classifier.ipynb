{
 "cells": [
  {
   "cell_type": "code",
   "execution_count": 1,
   "metadata": {},
   "outputs": [],
   "source": [
    "import os\n",
    "from multiprocessing import Pool\n",
    "\n",
    "import sys\n",
    "sys.path.insert(1, '../aggregation.region') # this works\n",
    "# from aggregate_density_observable_by_region import get_raster_data\n",
    "import aggregate_density_observable_by_region as ado\n"
   ]
  },
  {
   "cell_type": "code",
   "execution_count": 4,
   "metadata": {},
   "outputs": [],
   "source": [
    "raster_directory = r\"\\\\akif.internal\\public\\veg_c_storage_rawdata\\vegetation_carbon_stock_landcover_global\"\n",
    "# raster_directory = r\"Z:\\veg_c_storage_rawdata\\vegetation_carbon_stock_landcover_global\"\n",
    "\n",
    "# Path to the shapefile containing the data on region polygons that are to be\n",
    "# used in the aggregation.\n",
    "region_polygons_file = r\"\\\\akif.internal\\public\\veg_c_storage_rawdata\\wb_global_countries\\countries_to_test.shp\"\n",
    "# region_polygons_file = r\"Z:\\veg_c_storage_rawdata\\wb_global_countries\\2015_gaul_dataset_mod_2015_gaul_dataset_global_countries_1.shp\"\n",
    "\n",
    "# Name of the observable to aggregate. This will be used as a prefix for the\n",
    "# temporary results filenames. A suffix \"_YYYY.csv\" will be appended to this\n",
    "# name. The directory for the temporary exports is defined below.\n",
    "observable_name = \"vegetation-carbon-stock\"\n",
    "\n",
    "# Path for the temporal exports of the aggregation process after each raster\n",
    "# processed.\n",
    "temp_export_dir = \"./tmp/vcs.aggregated.country/\"\n",
    "\n",
    "# Path to export the final dataset.\n",
    "export_path = \"./vegetation.carbon.stock/vcs-aggregated-country-landcover.csv\""
   ]
  },
  {
   "cell_type": "code",
   "execution_count": 5,
   "metadata": {},
   "outputs": [
    {
     "name": "stdout",
     "output_type": "stream",
     "text": [
      "Data loaded succesfully.\n"
     ]
    }
   ],
   "source": [
    "raster_list = ado.get_raster_data(raster_directory)\n",
    "region_polygons = ado.load_region_polygons(region_polygons_file)\n",
    "print(\"Data loaded succesfully.\")\n",
    "# time 14s"
   ]
  },
  {
   "cell_type": "code",
   "execution_count": 6,
   "metadata": {},
   "outputs": [
    {
     "name": "stdout",
     "output_type": "stream",
     "text": [
      "Starting aggregation process.\n",
      "starting Pool\n"
     ]
    }
   ],
   "source": [
    "# Full path for temporary exports per ladncover and year.\n",
    "temp_export_path = temp_export_dir + observable_name\n",
    "\n",
    "print(\"Starting aggregation process.\")\n",
    "#list of years to compute\n",
    "year_list = range(2000,2020) #remember is always +1\n",
    "argument_list = ado.parallel_argument_list(year_list, raster_list, region_polygons, temp_export_path)\n",
    "with Pool() as pool:\n",
    "    print(\"starting Pool\")\n",
    "    result = pool.starmap(ado.aggregate_density_observable,argument_list)\n",
    "    print(result)\n",
    "        \n",
    "        \n",
    "# aggregated_observable = ado.aggregate_density_observable(raster_list, region_polygons, temp_export_path)\n",
    "print(\"Aggregation finished.\")\n",
    "\n",
    "#primer error peto por temp_export_dir, asi que ha llegado hasta ahí"
   ]
  },
  {
   "cell_type": "code",
   "execution_count": null,
   "metadata": {},
   "outputs": [],
   "source": [
    "\n",
    "print(\"Exporting the aggregated dataset.\")\n",
    "ado.export_to_csv(region_polygons, aggregated_observable, export_path)\n",
    "print(\"Done.\")\n",
    "print(raster_list[1:2])"
   ]
  },
  {
   "cell_type": "code",
   "execution_count": null,
   "metadata": {},
   "outputs": [],
   "source": [
    "print(\"Aggregation finished.\")\n",
    "# aggregated_observable = aggregate_density_observable(raster_list, region_polygons, temp_export_path)\n",
    "\n",
    "\n",
    "print(\"Exporting the aggregated dataset.\")\n",
    "# export_to_csv(region_polygons, result, export_path)\n",
    "print(\"Done.\")"
   ]
  }
 ],
 "metadata": {
  "kernelspec": {
   "display_name": "gdal_env",
   "language": "python",
   "name": "python3"
  },
  "language_info": {
   "codemirror_mode": {
    "name": "ipython",
    "version": 3
   },
   "file_extension": ".py",
   "mimetype": "text/x-python",
   "name": "python",
   "nbconvert_exporter": "python",
   "pygments_lexer": "ipython3",
   "version": "3.7.12"
  },
  "orig_nbformat": 4,
  "vscode": {
   "interpreter": {
    "hash": "13fb4f61f9b1971e99363de4d9200a528ac37b1d4677b1025546b3653dbc06d9"
   }
  }
 },
 "nbformat": 4,
 "nbformat_minor": 2
}
