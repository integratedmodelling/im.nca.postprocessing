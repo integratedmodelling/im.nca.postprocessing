{
 "cells": [
  {
   "cell_type": "code",
   "execution_count": 1,
   "metadata": {},
   "outputs": [],
   "source": [
    "import os\n",
    "import geopandas as gpd\n",
    "import rasterio\n",
    "import rasterio.mask\n",
    "import numpy as np\n",
    "import pandas as pd\n",
    "import math\n",
    "import platform"
   ]
  },
  {
   "cell_type": "code",
   "execution_count": 2,
   "metadata": {},
   "outputs": [],
   "source": [
    "# rootdir = os.path.dirname(os.path.abspath(__file__))\n",
    "\n",
    "# landcover_directory = r\"\\\\akif.internal\\public\\z_resources\\im-wb\\landcove_layers\"\n",
    "landcover_directory = r\"Z:\\z_resources\\im-wb\\landcover_layers\"\n",
    "landcover_classes_csv = \"./tmp/landcover_classes.csv\" #this works"
   ]
  },
  {
   "cell_type": "code",
   "execution_count": 3,
   "metadata": {},
   "outputs": [
    {
     "name": "stderr",
     "output_type": "stream",
     "text": [
      "<>:17: SyntaxWarning: \"is\" with a literal. Did you mean \"==\"?\n",
      "<>:17: SyntaxWarning: \"is\" with a literal. Did you mean \"==\"?\n",
      "C:\\Users\\ruben.crespo\\AppData\\Local\\Temp\\ipykernel_17684\\3629118024.py:17: SyntaxWarning: \"is\" with a literal. Did you mean \"==\"?\n",
      "  if platform.system() is \"Windows\":\n"
     ]
    }
   ],
   "source": [
    "def get_raster_data(path):\n",
    "    file_list = []\n",
    "    for file in os.listdir(path):\n",
    "        # Iterate over all the files in the specified directory.\n",
    "        if \".tif\" in file:\n",
    "            # Process the file if it has a .tif format.\n",
    "            if platform.system() is \"Windows\":\n",
    "                address = os.path.join(path, file).replace(\"/\",\"\\\\\")\n",
    "            else:\n",
    "                address = os.path.join(path, file).replace(\"\\\\\",\"/\")\n",
    "                #build the path according the OS running the script\n",
    "\n",
    "            if address not in file_list:\n",
    "                # Add the file address to the list if it had not been added before.\n",
    "                file_list.append(address)\n",
    "        else:\n",
    "            pass\n",
    "    \n",
    "    return file_list\n",
    "\n",
    "landcover_list = get_raster_data(landcover_directory)\n",
    "\n"
   ]
  },
  {
   "cell_type": "code",
   "execution_count": 4,
   "metadata": {},
   "outputs": [],
   "source": [
    "clc_df = pd.read_csv(landcover_classes_csv) #this works\n",
    "for raster_file in landcover_list[0:1]:\n",
    "    #create a folder for the outputs\n",
    "    \"\"\"Here we create and go the folder which will contain the landcover reclass\"\"\"\n",
    "    data_name = raster_file.replace('.tif','')\n",
    "    output_dir = os.path.join(landcover_directory, data_name + \"_reclass\")\n",
    "    if not os.path.exists(output_dir):\n",
    "        os.mkdir(output_dir)\n",
    "\n",
    "    "
   ]
  },
  {
   "cell_type": "code",
   "execution_count": null,
   "metadata": {},
   "outputs": [],
   "source": [
    "def split_the_raster(raster_image, width, height):\n",
    "\n",
    "    tilesize = 1000\n",
    "\n",
    "    for i in range(0, width, tilesize): # Tilesize marks from where to where in width.\n",
    "        for j in range(0, height, tilesize):\n",
    "            # This is for the edge parts, so we don't get nodata from the borders.\n",
    "            w0 = i # Start of the array.\n",
    "            w_plus = min(i+tilesize, width) - i # Addition value.\n",
    "            w1 = w0 + w_plus # End of the array.\n",
    "            h0 = j\n",
    "            h_plus = min(j+tilesize, height) - j\n",
    "            h1 = h0 + h_plus\n",
    "\n",
    "\n",
    "    return accumulated_agg_value"
   ]
  },
  {
   "cell_type": "code",
   "execution_count": null,
   "metadata": {},
   "outputs": [],
   "source": []
  },
  {
   "cell_type": "code",
   "execution_count": 7,
   "metadata": {},
   "outputs": [],
   "source": [
    "for row_index, row in clc_df.loc[0:1].iterrows():  \n",
    "        # Load the raster file.\n",
    "        landcover_file = rasterio.open(raster_file)\n",
    "        landcover_array = landcover_file.read() #[z,x,y]\n",
    "        height = landcover_array.shape[1]\n",
    "        width  = landcover_array.shape[2]\n",
    "        #create a copy\n",
    "        # landcover_reclass = landcover_file.copy()\n",
    "        \n",
    "        # # do a reclass of the file\n",
    "        # landcover_reclass[np.where(landcover_reclass = row['VALUE'] )] = 1\n",
    "        # landcover_reclass[np.where(landcover_reclass != row['VALUE'] )] = 0\n",
    "        \n",
    "     "
   ]
  },
  {
   "cell_type": "code",
   "execution_count": null,
   "metadata": {},
   "outputs": [],
   "source": [
    "def reclassifier(landcover_layer):\n",
    "    landcover_layer[np.where(landcover_layer = row['VALUE'] )] = 1\n",
    "    landcover_layer[np.where(landcover_layer != row['VALUE'] )] = 0\n",
    "    return landcover_reclass"
   ]
  },
  {
   "cell_type": "code",
   "execution_count": null,
   "metadata": {},
   "outputs": [],
   "source": [
    "#save the result\n",
    "with rasterio.open(os.path.join(output_dir, data_name, '_', row['VALUE'],'.tif').replace(\"/\",\"\\\\\"), 'w', \n",
    "                    driver = landcover_file.driver, \n",
    "                    height = landcover_file.height, \n",
    "                    width = landcover_file.width, \n",
    "                    count = landcover_file.count, \n",
    "                    dtype = landcover_file.dtype, \n",
    "                    crs = landcover_file.crs, \n",
    "                    transform = landcover_file.transform, \n",
    "                    compress='deflate') as dst:\n",
    "    \n",
    "    dst.write(landcover_reclass)"
   ]
  }
 ],
 "metadata": {
  "kernelspec": {
   "display_name": "rasterio_env",
   "language": "python",
   "name": "python3"
  },
  "language_info": {
   "codemirror_mode": {
    "name": "ipython",
    "version": 3
   },
   "file_extension": ".py",
   "mimetype": "text/x-python",
   "name": "python",
   "nbconvert_exporter": "python",
   "pygments_lexer": "ipython3",
   "version": "3.8.15"
  },
  "orig_nbformat": 4,
  "vscode": {
   "interpreter": {
    "hash": "29a267db8be7d3971bd41f29a427330e78fe3f80f39d92baa14f02164110da17"
   }
  }
 },
 "nbformat": 4,
 "nbformat_minor": 2
}
