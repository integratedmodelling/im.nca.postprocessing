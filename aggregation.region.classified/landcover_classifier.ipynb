{
 "cells": [
  {
   "attachments": {},
   "cell_type": "markdown",
   "metadata": {},
   "source": [
    "The idea is:\n",
    "- for every landcover, create a destination folder\n",
    "- split the landcover in tiles as one array is 188Gb\n",
    "- at each split, there is a csv with the landcover values. Iterate it and assign 1 value to the corresopnding class and 0 to the rest\n",
    "- create a subfolder with the content and name of the class\n",
    "- merge all together"
   ]
  },
  {
   "cell_type": "code",
   "execution_count": 1,
   "metadata": {},
   "outputs": [],
   "source": [
    "import os\n",
    "import geopandas as gpd\n",
    "import rasterio\n",
    "import rasterio.mask\n",
    "import numpy as np\n",
    "import pandas as pd\n",
    "import math\n",
    "import platform\n",
    "from shapely.geometry import box\n",
    "from matplotlib import pyplot as plt"
   ]
  },
  {
   "cell_type": "code",
   "execution_count": 2,
   "metadata": {},
   "outputs": [],
   "source": [
    "# rootdir = os.path.dirname(os.path.abspath(__file__))\n",
    "\n",
    "# landcover_directory = r\"\\\\akif.internal\\public\\z_resources\\im-wb\\landcove_layers\"\n",
    "landcover_directory = r\"Z:\\z_resources\\im-wb\\landcover_layers\"\n",
    "landcover_classes_csv = \"./tmp/landcover_classes.csv\" #this works"
   ]
  },
  {
   "cell_type": "code",
   "execution_count": 3,
   "metadata": {},
   "outputs": [
    {
     "name": "stderr",
     "output_type": "stream",
     "text": [
      "<>:7: SyntaxWarning: \"is\" with a literal. Did you mean \"==\"?\n",
      "<>:7: SyntaxWarning: \"is\" with a literal. Did you mean \"==\"?\n",
      "C:\\Users\\ruben.crespo\\AppData\\Local\\Temp\\ipykernel_15208\\3712878511.py:7: SyntaxWarning: \"is\" with a literal. Did you mean \"==\"?\n",
      "  if platform.system() is \"Windows\":\n"
     ]
    }
   ],
   "source": [
    "def get_raster_data(path):\n",
    "    file_list = []\n",
    "    for file in os.listdir(path):\n",
    "        # Iterate over all the files in the specified directory.\n",
    "        if \".tif\" in file:\n",
    "            # Process the file if it has a .tif format.\n",
    "            if platform.system() is \"Windows\":\n",
    "                address = os.path.join(path, file).replace(\"/\",\"\\\\\")\n",
    "            else:\n",
    "                address = os.path.join(path, file).replace(\"\\\\\",\"/\")\n",
    "                #build the path according the OS running the script\n",
    "\n",
    "            if address not in file_list:\n",
    "                # Add the file address to the list if it had not been added before.\n",
    "                file_list.append(address)\n",
    "        else:\n",
    "            pass\n",
    "    \n",
    "    return file_list\n",
    "\n",
    "landcover_list = get_raster_data(landcover_directory)\n",
    "\n"
   ]
  },
  {
   "cell_type": "code",
   "execution_count": null,
   "metadata": {},
   "outputs": [],
   "source": [
    "\"\"\"try the same but with a gdal command with the calculator. I think It will be faster\"\"\"\n",
    "## Raster Calculator##\n",
    "gdal_path = r'\"C:/Program Files/GDAL\"'\n",
    "gdal_calc_path = os.path.join(gdal_path, 'gdal_calc.py')\n",
    "\n",
    "\n",
    "# Arguements.\n",
    "input_file_path = 'C:/Users/Public/try/singlebeam.tif'\n",
    "input_file_path2 = 'C:/Users/Public/try/gdaltry.tif'\n",
    "output_file_path = 'C:/Users/Public/try/pytry3.tif'\n",
    "calc_expr = '\"(A == 0) * B + (A != 0) * A\"'\n",
    "typeof = '\"Float32\"'\n",
    "\n",
    "# Generate string of process.\n",
    "gdal_calc_str = 'python {0} -A {1} -B {2} --outfile={3} --calc={4} --type={5} --hideNoData'\n",
    "gdal_calc_process = gdal_calc_str.format(gdal_calc_path, input_file_path, input_file_path2,\n",
    "    output_file_path, calc_expr, typeof)\n",
    "\n",
    "# Call process.\n",
    "os.system(gdal_calc_process)"
   ]
  },
  {
   "cell_type": "code",
   "execution_count": 4,
   "metadata": {},
   "outputs": [],
   "source": [
    "\"\"\"starting of the reading\"\"\"\n",
    "clc_df = pd.read_csv(landcover_classes_csv) #this works\n",
    "for raster_file in landcover_list[0:1]:\n",
    "    #create a folder for the outputs\n",
    "    \n",
    "    \"\"\"Create and go the folder which will contain the landcover reclass\"\"\"\n",
    "    data_name = raster_file.replace('.tif','')\n",
    "    output_dir = os.path.join(landcover_directory, data_name + \"_reclass\")\n",
    "    if not os.path.exists(output_dir):\n",
    "        os.mkdir(output_dir)\n",
    "\n",
    "    "
   ]
  },
  {
   "cell_type": "code",
   "execution_count": 5,
   "metadata": {},
   "outputs": [],
   "source": [
    "\"\"\"read the landcover csv and select the value and the class\"\"\"\n",
    "for row_index, row in clc_df.loc[0:1].iterrows():  \n",
    "        # Load the raster file.\n",
    "        landcover_file = rasterio.open(raster_file)\n",
    "        landcover_array = landcover_file.read() #[z,x,y]\n",
    "        height = landcover_array.shape[1]\n",
    "        width  = landcover_array.shape[2]\n",
    "        \n",
    "        #create a copy\n",
    "        # landcover_reclass = landcover_file.copy()\n",
    "        \n",
    "        # # do a reclass of the file\n",
    "        # landcover_reclass[np.where(landcover_reclass = row['VALUE'] )] = 1\n",
    "        # landcover_reclass[np.where(landcover_reclass != row['VALUE'] )] = 0\n",
    "        \n",
    "        # ISSUE: we get memory issues at doing this part. We have to consider how to solve this\n",
    "     "
   ]
  },
  {
   "cell_type": "code",
   "execution_count": 18,
   "metadata": {},
   "outputs": [],
   "source": [
    "\"\"\"Here we start tiling\"\"\"\n",
    "tilesize = 1000\n",
    "for i in range(0, width, tilesize)[0:1]: # Tilesize marks from where to where in width.\n",
    "    for j in range(0, height, tilesize)[0:3]:\n",
    "        # This is for the edge parts, so we don't get nodata from the borders.\n",
    "        w0 = i # Start of width the array.\n",
    "        w_plus = min(i+tilesize, width) - i # Addition value of width.\n",
    "        w1 = w0 + w_plus # End of the array.\n",
    "        h0 = j # start of height array\n",
    "        h_plus = min(j+tilesize, height) - j # Addition value of heigth.\n",
    "        h1 = h0 + h_plus\n",
    "        \n",
    "        \"\"\"Create the geometry\"\"\"\n",
    "        cols, rows = np.meshgrid(np.arange(w0, w1), np.arange(h0, h1))\n",
    "        xs, ys = rasterio.transform.xy(landcover_file.transform, rows, cols)\n",
    "        \n",
    "        bbox = box(w0, h0, w1, h1)\n",
    "        # geo = gpd.GeoDataFrame({'geometry': bbox}, index=[0], crs=raster_image.crs)\n",
    "        geo_row = gpd.GeoDataFrame({'geometry': bbox}, index=[0], crs=landcover_file.crs)\n",
    "        coords = gpd.GeoSeries(geo_row['geometry'])\n",
    "        \n",
    "        \"\"\"Mask the data\"\"\"\n",
    "        # out_image, out_transform = rasterio.mask.mask(landcover_file, coords, crop=True)"
   ]
  },
  {
   "cell_type": "code",
   "execution_count": 15,
   "metadata": {},
   "outputs": [],
   "source": [
    "geo_row.to_csv(landcover_directory + \"/bbox_geoemtry_3\" + \".csv\")"
   ]
  },
  {
   "cell_type": "code",
   "execution_count": null,
   "metadata": {},
   "outputs": [],
   "source": [
    "plt.plot(out_image[0,:,:])"
   ]
  },
  {
   "cell_type": "code",
   "execution_count": null,
   "metadata": {},
   "outputs": [],
   "source": [
    "def reclassifier(landcover_layer):\n",
    "    landcover_layer[np.where(landcover_layer = row['VALUE'] )] = 1\n",
    "    landcover_layer[np.where(landcover_layer != row['VALUE'] )] = 0\n",
    "    \n",
    "    return landcover_layer"
   ]
  },
  {
   "cell_type": "code",
   "execution_count": null,
   "metadata": {},
   "outputs": [],
   "source": [
    "#save the result\n",
    "with rasterio.open(os.path.join(output_dir, data_name, '_', row['VALUE'],'.tif').replace(\"/\",\"\\\\\"), 'w', \n",
    "                    driver = landcover_file.driver, \n",
    "                    height = landcover_file.height, \n",
    "                    width = landcover_file.width, \n",
    "                    count = landcover_file.count, \n",
    "                    dtype = landcover_file.dtype, \n",
    "                    crs = landcover_file.crs, \n",
    "                    transform = landcover_file.transform, \n",
    "                    compress='deflate') as dst:\n",
    "    \n",
    "    dst.write(out_image)"
   ]
  }
 ],
 "metadata": {
  "kernelspec": {
   "display_name": "rasterio_env",
   "language": "python",
   "name": "python3"
  },
  "language_info": {
   "codemirror_mode": {
    "name": "ipython",
    "version": 3
   },
   "file_extension": ".py",
   "mimetype": "text/x-python",
   "name": "python",
   "nbconvert_exporter": "python",
   "pygments_lexer": "ipython3",
   "version": "3.8.15 | packaged by conda-forge | (default, Nov 22 2022, 08:42:03) [MSC v.1929 64 bit (AMD64)]"
  },
  "orig_nbformat": 4,
  "vscode": {
   "interpreter": {
    "hash": "29a267db8be7d3971bd41f29a427330e78fe3f80f39d92baa14f02164110da17"
   }
  }
 },
 "nbformat": 4,
 "nbformat_minor": 2
}
