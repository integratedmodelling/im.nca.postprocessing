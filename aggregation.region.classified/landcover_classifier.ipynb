{
 "cells": [
  {
   "attachments": {},
   "cell_type": "markdown",
   "metadata": {},
   "source": [
    "The idea is:\n",
    "- get a list of all the landcover and vcs layers\n",
    "- iterate over each on in pairs and iterate over each class at the landcover csv\n",
    "- execute gdal_calc\n",
    "- export the result in an another folder"
   ]
  },
  {
   "cell_type": "code",
   "execution_count": 2,
   "metadata": {},
   "outputs": [],
   "source": [
    "import os\n",
    "import geopandas as gpd\n",
    "from osgeo import gdal\n",
    "import numpy as np\n",
    "import pandas as pd\n",
    "from matplotlib import pyplot as plt\n",
    "import platform\n",
    "import itertools\n",
    "import sys\n",
    "\n",
    "sys.path.insert(1, './tmp')\n",
    "import gdal_calc\n"
   ]
  },
  {
   "cell_type": "code",
   "execution_count": 4,
   "metadata": {},
   "outputs": [],
   "source": [
    "\"\"\"Data inputs\"\"\"\n",
    "# landcover_directory = r\"\\\\akif.internal\\public\\z_resources\\im-wb\\landcove_layers\" #from the VM\n",
    "landcover_directory = \"Z:\\z_resources\\im-wb\\landcover_layers_copy\" #from my computer\n",
    "# landcover_directory = r\"C:\\Users\\admin\\Downloads\\landcover_layers\" #in local VM\n",
    "\n",
    "landcover_classes_csv = \"./tmp/landcover_classes.csv\" #this works\n",
    "\n",
    "vegetation_carbon_stock_directory = \"Z:\\\\veg_c_storage_rawdata\\\\vegetation_carbon_stock_global\"\n",
    "\n",
    "output_path = \"Z:\\\\veg_c_storage_rawdata\""
   ]
  },
  {
   "cell_type": "code",
   "execution_count": null,
   "metadata": {},
   "outputs": [],
   "source": [
    "def check_os_path(path):\n",
    "    \"\"\"\n",
    "    build the path according the OS running the script\n",
    "    \"\"\"\n",
    "    if platform.system() == \"Windows\":\n",
    "        path = path.replace(\"/\",\"\\\\\")\n",
    "    else:\n",
    "        path = path.replace(\"\\\\\",\"/\")\n",
    "    return path"
   ]
  },
  {
   "cell_type": "code",
   "execution_count": 5,
   "metadata": {},
   "outputs": [],
   "source": [
    "def get_raster_data(path):\n",
    "    \"\"\"\n",
    "    get_raster_data gets the addresses of all the raster files (\"*.tif\")\n",
    "    stored in the directory specified by \"path\". Each raster file should\n",
    "    correspond to a different year for the analysis.\n",
    "\n",
    "    :param path: directory containing the raster files for the density observable\n",
    "    to aggregate.\n",
    "    :return: a list storing the addresses of all the raster files.\n",
    "    \"\"\"\n",
    "    file_list = []\n",
    "    for file in os.listdir(path):\n",
    "        # Iterate over all the files in the specified directory.\n",
    "        if \".tif\" in file:\n",
    "            # Process the file if it has a .tif format.\n",
    "            address = os.path.join(path, file)\n",
    "            #build the path according the OS running the script\n",
    "            address = check_os_path(address)\n",
    "            if address not in file_list:\n",
    "                # Add the file address to the list if it had not been added before.\n",
    "                file_list.append(address)\n",
    "        else:\n",
    "            pass\n",
    "    \n",
    "    return file_list\n",
    "# WARNING: both layers must have the same ammount of files corresponding to the same years\n",
    "\n",
    "landcover_list = get_raster_data(landcover_directory)\n",
    "vcs_list = get_raster_data(vegetation_carbon_stock_directory)\n",
    "\n"
   ]
  },
  {
   "cell_type": "code",
   "execution_count": null,
   "metadata": {},
   "outputs": [],
   "source": [
    "def load_landcover_classes(file):\n",
    "    \"\"\"\n",
    "    load_landcover_classes loads a csv containing a table describing\n",
    "    the landcover classes.\n",
    "\n",
    "    :param file: the address of the csv with the landcover classification.\n",
    "    :return: a DataFrame with the data classification.\n",
    "    \"\"\"\n",
    "    file = check_os_path(file)\n",
    "    df = gpd.read_csv(file)\n",
    "    return df\n",
    "\n",
    "clc_df = pd.read_csv(landcover_classes_csv)"
   ]
  },
  {
   "cell_type": "code",
   "execution_count": 21,
   "metadata": {},
   "outputs": [
    {
     "name": "stdout",
     "output_type": "stream",
     "text": [
      "Z:\\veg_c_storage_rawdata\\vegetation_carbon_stock_global_landcover_reclass\n"
     ]
    }
   ],
   "source": [
    "def create_output_directory(path_location, folder_name):\n",
    "    \"\"\"\n",
    "    Create and go the folder which will contain the outputs\n",
    "    This method raise FileExistsError if the directory to be created already exists.\n",
    "    \"\"\"\n",
    "    \n",
    "    dir = os.path.join(path_location, + folder_name)\n",
    "    dir = check_os_path(dir)\n",
    "    if not os.path.exists(dir):\n",
    "        try:\n",
    "            os.mkdir(dir)\n",
    "        except Exception as e:\n",
    "            print(e)\n",
    "            \n",
    "    print(dir)\n",
    "    return dir\n",
    "\n",
    "output_dir = create_output_directory(output_path, \"vegetation_carbon_stock_global_reclass\")\n",
    "\n"
   ]
  },
  {
   "cell_type": "code",
   "execution_count": 7,
   "metadata": {},
   "outputs": [
    {
     "name": "stdout",
     "output_type": "stream",
     "text": [
      "Z:\\veg_c_storage_rawdata\\vegetation_carbon_stock_global\\vcs_2000_global_300m.tif\n",
      "Z:\\z_resources\\im-wb\\landcover_layers_copy\\cci-lc-300m-2000.tif\n"
     ]
    }
   ],
   "source": [
    "\"\"\"starting of the reading\"\"\"\n",
    "# we take into account that there are as many landcover layers as vsc ones and correspond to the same year periods\n",
    "def generate_vsc_classes(vcs_list, landcover_list, clc_df, output_dir):\n",
    "    \"\"\"This part iterates over the carbon vegetation layers and the landcover ones\n",
    "    at the same time, classifiing them over a gdal calculation\n",
    "    :vcs_list: list of vegetation carbon layers\n",
    "    :landcover_list: list of carbon vegetation layers\n",
    "    \"\"\"\n",
    "    failed_layers = []\n",
    "    for vsc_file, landcover_file in zip(vcs_list[0:1],landcover_list[0:1]): # vcs_list[0:1],landcover_list[0:1]\n",
    "        print(vsc_file)\n",
    "        print(landcover_file)\n",
    "        \"\"\"read the landcover csv and select the value and the class\"\"\"\n",
    "        for row_index, row in clc_df.loc[1:1].iterrows(): # clc_df.loc[1:1].iterrows()\n",
    "            print(row_index)\n",
    "            \n",
    "            ## Raster Calculator##\n",
    "            # Arguements.\n",
    "            landcover_file\n",
    "            vsc_file\n",
    "            raster_output_name = os.path.basename(vsc_file).replace('.tif','') + \"_\" + str(row['VALUE']) + \".tif\" #this takes the dir file\n",
    "            output_file_path = os.path.join(output_dir, raster_output_name)\n",
    "            calc_expr = \"((A == {0})*1 + (A > {0})*(A < {0})*0)*B\".format(row['VALUE'])\n",
    "            try:\n",
    "                # NOTE: add the format always\n",
    "                calculated_tiff = gdal_calc.Calc(calc_expr, A=landcover_file, B=vsc_file, outfile=output_file_path, NoDataValue=0, format=\"GTiff\", creation_options=[\"COMPRESS=DEFLATE\", \"TILED=YES\"], extent=\"intersect\", quiet=True)\n",
    "            except Exception as e:\n",
    "                print(e)\n",
    "                failed_layers.append(raster_output_name)\n",
    "            # this works\n",
    "            # calculated_tiff = gdal_calc.Calc(calc=\"(A == 10)*1 + (A > 10)*(A < 10)*0\", A=\"Z:\\z_resources\\im-wb\\landcover_layers_copy\\cci-lc-300m-2000.tif\", outfile=\"Z:\\z_resources\\im-wb\\landcover_layers_copy\\cci-lc-300m-2000_reclass\\cci-lc-300m-30.tif\", NoDataValue=0, format=\"GTiff\", creation_options=[\"COMPRESS=DEFLATE\", \"TILED=YES\"])\n",
    "            print(\"the layer {0} is finished\".format(raster_output_name))\n",
    "            calculated_tiff = None\n",
    "            \n",
    "    print(failed_layers)    \n",
    "    return print(\"the process is finished\")\n",
    "  "
   ]
  }
 ],
 "metadata": {
  "kernelspec": {
   "display_name": "rasterio_env",
   "language": "python",
   "name": "python3"
  },
  "language_info": {
   "codemirror_mode": {
    "name": "ipython",
    "version": 3
   },
   "file_extension": ".py",
   "mimetype": "text/x-python",
   "name": "python",
   "nbconvert_exporter": "python",
   "pygments_lexer": "ipython3",
   "version": "3.8.15"
  },
  "orig_nbformat": 4,
  "vscode": {
   "interpreter": {
    "hash": "29a267db8be7d3971bd41f29a427330e78fe3f80f39d92baa14f02164110da17"
   }
  }
 },
 "nbformat": 4,
 "nbformat_minor": 2
}
