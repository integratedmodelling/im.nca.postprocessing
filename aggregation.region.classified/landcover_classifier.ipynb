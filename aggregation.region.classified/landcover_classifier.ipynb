{
 "cells": [
  {
   "attachments": {},
   "cell_type": "markdown",
   "metadata": {},
   "source": [
    "The idea is:\n",
    "- for every landcover, create a destination folder\n",
    "- split the landcover in tiles as one array is 188Gb\n",
    "- at each split, there is a csv with the landcover values. Iterate it and assign 1 value to the corresopnding class and 0 to the rest\n",
    "- create a subfolder with the content and name of the class\n",
    "- merge all together"
   ]
  },
  {
   "cell_type": "code",
   "execution_count": 21,
   "metadata": {},
   "outputs": [],
   "source": [
    "import os\n",
    "import geopandas as gpd\n",
    "import rasterio\n",
    "import rasterio.mask\n",
    "import numpy as np\n",
    "import pandas as pd\n",
    "import math\n",
    "import platform\n",
    "from shapely.geometry import box\n",
    "from matplotlib import pyplot as plt"
   ]
  },
  {
   "cell_type": "code",
   "execution_count": 2,
   "metadata": {},
   "outputs": [],
   "source": [
    "# rootdir = os.path.dirname(os.path.abspath(__file__))\n",
    "\n",
    "# landcover_directory = r\"\\\\akif.internal\\public\\z_resources\\im-wb\\landcove_layers\"\n",
    "landcover_directory = r\"C:\\Users\\admin\\Downloads\\landcover_layers\"\n",
    "landcover_classes_csv = \"./tmp/landcover_classes.csv\" #this works"
   ]
  },
  {
   "cell_type": "code",
   "execution_count": 3,
   "metadata": {},
   "outputs": [],
   "source": [
    "def get_raster_data(path):\n",
    "    file_list = []\n",
    "    for file in os.listdir(path):\n",
    "        # Iterate over all the files in the specified directory.\n",
    "        if \".tif\" in file:\n",
    "            # Process the file if it has a .tif format.\n",
    "            if platform.system() is \"Windows\":\n",
    "                address = os.path.join(path, file).replace(\"/\",\"\\\\\")\n",
    "            else:\n",
    "                address = os.path.join(path, file).replace(\"\\\\\",\"/\")\n",
    "                #build the path according the OS running the script\n",
    "\n",
    "            if address not in file_list:\n",
    "                # Add the file address to the list if it had not been added before.\n",
    "                file_list.append(address)\n",
    "        else:\n",
    "            pass\n",
    "    \n",
    "    return file_list\n",
    "\n",
    "landcover_list = get_raster_data(landcover_directory)\n",
    "\n"
   ]
  },
  {
   "cell_type": "code",
   "execution_count": 26,
   "metadata": {},
   "outputs": [],
   "source": [
    "\"\"\"starting of the reading\"\"\"\n",
    "clc_df = pd.read_csv(landcover_classes_csv) #this works\n",
    "for raster_file in landcover_list[0:1]:\n",
    "    #create a folder for the outputs\n",
    "    \n",
    "    \"\"\"Create and go the folder which will contain the landcover reclass\"\"\"\n",
    "    raster_directory = raster_file.replace('.tif','')\n",
    "    output_dir = raster_directory + \"_reclass\"\n",
    "    if not os.path.exists(output_dir):\n",
    "        os.mkdir(output_dir)\n",
    "\n",
    "    "
   ]
  },
  {
   "cell_type": "code",
   "execution_count": 22,
   "metadata": {},
   "outputs": [
    {
     "name": "stdout",
     "output_type": "stream",
     "text": [
      "3\n"
     ]
    }
   ],
   "source": [
    "\"\"\"read the landcover csv and select the value and the class\"\"\"\n",
    "for row_index, row in clc_df.loc[3:3].iterrows():\n",
    "        print(row_index)  \n",
    "        # Load the raster file.\n",
    "        # landcover_file = rasterio.open(raster_file)\n",
    "        # landcover_array = landcover_file.read() #[z,x,y]\n",
    "        # height = landcover_array.shape[1]\n",
    "        # width  = landcover_array.shape[2]\n",
    "        \n",
    "        #create a copy\n",
    "        # landcover_reclass = landcover_file.copy()\n",
    "        \n",
    "        # # do a reclass of the file\n",
    "        # landcover_reclass[np.where(landcover_reclass = row['VALUE'] )] = 1\n",
    "        # landcover_reclass[np.where(landcover_reclass != row['VALUE'] )] = 0\n",
    "        \n",
    "        # ISSUE: we get memory issues at doing this part. We have to consider how to solve this\n",
    "     "
   ]
  },
  {
   "cell_type": "code",
   "execution_count": 34,
   "metadata": {},
   "outputs": [
    {
     "ename": "AttributeError",
     "evalue": "'NoneType' object has no attribute 'RasterXSize'",
     "output_type": "error",
     "traceback": [
      "\u001b[1;31m---------------------------------------------------------------------------\u001b[0m",
      "\u001b[1;31mAttributeError\u001b[0m                            Traceback (most recent call last)",
      "\u001b[1;32m~\\AppData\\Local\\Temp/ipykernel_14428/3254234136.py\u001b[0m in \u001b[0;36m<module>\u001b[1;34m\u001b[0m\n\u001b[0;32m     20\u001b[0m \u001b[1;31m# os.system(gdal_calc_process)\u001b[0m\u001b[1;33m\u001b[0m\u001b[1;33m\u001b[0m\u001b[1;33m\u001b[0m\u001b[0m\n\u001b[0;32m     21\u001b[0m \u001b[1;33m\u001b[0m\u001b[0m\n\u001b[1;32m---> 22\u001b[1;33m \u001b[0mcalculated_tiff\u001b[0m \u001b[1;33m=\u001b[0m \u001b[0mgdal_calc\u001b[0m\u001b[1;33m.\u001b[0m\u001b[0mCalc\u001b[0m\u001b[1;33m(\u001b[0m\u001b[0mcalc_expr\u001b[0m\u001b[1;33m,\u001b[0m \u001b[0mA\u001b[0m\u001b[1;33m=\u001b[0m\u001b[0minput_file_path\u001b[0m\u001b[1;33m,\u001b[0m \u001b[0moutfile\u001b[0m\u001b[1;33m=\u001b[0m\u001b[0moutput_file_path\u001b[0m\u001b[1;33m,\u001b[0m \u001b[0mNoDataValue\u001b[0m\u001b[1;33m=\u001b[0m\u001b[1;36m0\u001b[0m\u001b[1;33m,\u001b[0m \u001b[0mcreation_options\u001b[0m\u001b[1;33m=\u001b[0m\u001b[1;33m[\u001b[0m\u001b[1;34m\"COMPRESS=DEFLATE\"\u001b[0m\u001b[1;33m,\u001b[0m \u001b[1;34m\"TILED=YES\"\u001b[0m\u001b[1;33m]\u001b[0m\u001b[1;33m)\u001b[0m\u001b[1;33m\u001b[0m\u001b[1;33m\u001b[0m\u001b[0m\n\u001b[0m\u001b[0;32m     23\u001b[0m \u001b[1;33m\u001b[0m\u001b[0m\n\u001b[0;32m     24\u001b[0m \u001b[1;31m#Calc(calc=\"A*(A>0)\", A=\"input.tif\", A_Band=2, outfile=\"result.tif\", NoDataValue=0)\u001b[0m\u001b[1;33m\u001b[0m\u001b[1;33m\u001b[0m\u001b[1;33m\u001b[0m\u001b[0m\n",
      "\u001b[1;32mc:\\Users\\admin\\Documents\\01_Ruben_Scripts\\im.nca.postprocessing\\aggregation.region.classified\\gdal_calc.py\u001b[0m in \u001b[0;36mCalc\u001b[1;34m(calc, outfile, NoDataValue, type, format, creation_options, allBands, overwrite, debug, quiet, **input_files)\u001b[0m\n",
      "\u001b[1;32mc:\\Users\\admin\\Documents\\01_Ruben_Scripts\\im.nca.postprocessing\\aggregation.region.classified\\gdal_calc.py\u001b[0m in \u001b[0;36mdoit\u001b[1;34m(opts, args)\u001b[0m\n",
      "\u001b[1;31mAttributeError\u001b[0m: 'NoneType' object has no attribute 'RasterXSize'"
     ]
    }
   ],
   "source": [
    "\"\"\"try the same but with a gdal command with the calculator. I think It will be faster\"\"\"\n",
    "import sys\n",
    "sys.path.insert(1, './tmp')\n",
    "import gdal_calc\n",
    "## Raster Calculator##\n",
    "gdal_calc_path = \"./tmp/gdal_calc.py\"\n",
    "\n",
    "# Arguements.\n",
    "input_file_path = raster_file\n",
    "raster_name = os.path.basename(raster_file).replace('.tif','')\n",
    "output_file_path = os.path.join(output_dir, raster_name + \"_\" + str(row['VALUE']) + \".tif\")\n",
    "calc_expr = \"(A == {0})*1 + (A > {0})*(A < {0})*0\".format(row['VALUE'])\n",
    "\n",
    "# Generate string of process.\n",
    "# gdal_calc_str = 'python {0} -A {1} --outfile={2} --calc={3} --NoDataValue=0 -co COMPRESS=DEFLATE -co TILED=YES'\n",
    "# gdal_calc_process = gdal_calc_str.format(gdal_calc_path, input_file_path, output_file_path, calc_expr)\n",
    "\n",
    "# \"\"\"gdal_calc -A cci-lc-300m-2000.tif --outfile=cci-lc-300m-2000_Cropland_rainfed.tif --calc=\"(A==10)*1 + (A>10)*(A<10)*0\" --NoDataValue=0\"\"\"\n",
    "# print(gdal_calc_process)\n",
    "# Call process.\n",
    "# os.system(gdal_calc_process)\n",
    "\n",
    "calculated_tiff = gdal_calc.Calc(calc_expr, A=input_file_path, outfile=output_file_path, NoDataValue=0, creation_options=[\"COMPRESS=DEFLATE\", \"TILED=YES\"])\n",
    "\n",
    "#Calc(calc=\"A*(A>0)\", A=\"input.tif\", A_Band=2, outfile=\"result.tif\", NoDataValue=0)\n",
    "# \"Calc(\"A+B\", A=\"input1.tif\", B=\"input2.tif\", outfile=\"result.tif\")\"\n",
    "#creation_options=[\"COMPRESS=DEFLATE\", \"TILED=YES\"]\n",
    "calculated_tiff = None\n"
   ]
  },
  {
   "cell_type": "code",
   "execution_count": 19,
   "metadata": {},
   "outputs": [],
   "source": [
    "Calc(calc, outfile, NoDataValue=None, type=None, format=None, creation_options=[], allBands='', overwrite=False, debug=False, quiet=False, **input_files)"
   ]
  },
  {
   "cell_type": "code",
   "execution_count": null,
   "metadata": {},
   "outputs": [
    {
     "data": {
      "text/plain": [
       "'c:\\\\Users\\\\admin\\\\Documents\\\\01_Ruben_Scripts\\\\im.nca.postprocessing\\\\aggregation.region.classified'"
      ]
     },
     "execution_count": 17,
     "metadata": {},
     "output_type": "execute_result"
    }
   ],
   "source": [
    "os. getcwd()"
   ]
  },
  {
   "cell_type": "code",
   "execution_count": null,
   "metadata": {},
   "outputs": [
    {
     "name": "stdout",
     "output_type": "stream",
     "text": [
      "python ./tmp/gdal_calc.py -A Z:\\z_resources\\im-wb\\landcover_layers\\cci-lc-300m-2000.tif --outfile=Z:\\z_resources\\im-wb\\landcover_layers\\cci-lc-300m-2000\\30.tif --calc=(A == 30)*1 + (A > 30)*(A < 30)*0 --NoDataValue=0 -co COMPRESS=DEFLATE -co TILED=YES\n"
     ]
    }
   ],
   "source": [
    "print(gdal_calc_process)"
   ]
  },
  {
   "cell_type": "code",
   "execution_count": null,
   "metadata": {},
   "outputs": [],
   "source": [
    "\"\"\"Here we start tiling\"\"\"\n",
    "tilesize = 1000\n",
    "for i in range(0, width, tilesize)[0:1]: # Tilesize marks from where to where in width.\n",
    "    for j in range(0, height, tilesize)[0:3]:\n",
    "        # This is for the edge parts, so we don't get nodata from the borders.\n",
    "        w0 = i # Start of width the array.\n",
    "        w_plus = min(i+tilesize, width) - i # Addition value of width.\n",
    "        w1 = w0 + w_plus # End of the array.\n",
    "        h0 = j # start of height array\n",
    "        h_plus = min(j+tilesize, height) - j # Addition value of heigth.\n",
    "        h1 = h0 + h_plus\n",
    "        \n",
    "        \"\"\"Create the geometry\"\"\"\n",
    "        cols, rows = np.meshgrid(np.arange(w0, w1), np.arange(h0, h1))\n",
    "        xs, ys = rasterio.transform.xy(landcover_file.transform, rows, cols)\n",
    "        \n",
    "        bbox = box(w0, h0, w1, h1)\n",
    "        # geo = gpd.GeoDataFrame({'geometry': bbox}, index=[0], crs=raster_image.crs)\n",
    "        geo_row = gpd.GeoDataFrame({'geometry': bbox}, index=[0], crs=landcover_file.crs)\n",
    "        coords = gpd.GeoSeries(geo_row['geometry'])\n",
    "        \n",
    "        \"\"\"Mask the data\"\"\"\n",
    "        # out_image, out_transform = rasterio.mask.mask(landcover_file, coords, crop=True)"
   ]
  },
  {
   "cell_type": "code",
   "execution_count": null,
   "metadata": {},
   "outputs": [],
   "source": [
    "geo_row.to_csv(landcover_directory + \"/bbox_geoemtry_3\" + \".csv\")"
   ]
  },
  {
   "cell_type": "code",
   "execution_count": null,
   "metadata": {},
   "outputs": [],
   "source": [
    "plt.plot(out_image[0,:,:])"
   ]
  },
  {
   "cell_type": "code",
   "execution_count": null,
   "metadata": {},
   "outputs": [],
   "source": [
    "def reclassifier(landcover_layer):\n",
    "    landcover_layer[np.where(landcover_layer = row['VALUE'] )] = 1\n",
    "    landcover_layer[np.where(landcover_layer != row['VALUE'] )] = 0\n",
    "    \n",
    "    return landcover_layer"
   ]
  },
  {
   "cell_type": "code",
   "execution_count": null,
   "metadata": {},
   "outputs": [],
   "source": [
    "#save the result\n",
    "with rasterio.open(os.path.join(output_dir, data_name, '_', row['VALUE'],'.tif').replace(\"/\",\"\\\\\"), 'w', \n",
    "                    driver = landcover_file.driver, \n",
    "                    height = landcover_file.height, \n",
    "                    width = landcover_file.width, \n",
    "                    count = landcover_file.count, \n",
    "                    dtype = landcover_file.dtype, \n",
    "                    crs = landcover_file.crs, \n",
    "                    transform = landcover_file.transform, \n",
    "                    compress='deflate') as dst:\n",
    "    \n",
    "    dst.write(out_image)"
   ]
  }
 ],
 "metadata": {
  "kernelspec": {
   "display_name": "gdal_env",
   "language": "python",
   "name": "python3"
  },
  "language_info": {
   "codemirror_mode": {
    "name": "ipython",
    "version": 3
   },
   "file_extension": ".py",
   "mimetype": "text/x-python",
   "name": "python",
   "nbconvert_exporter": "python",
   "pygments_lexer": "ipython3",
   "version": "3.7.12 | packaged by conda-forge | (default, Oct 26 2021, 05:37:49) [MSC v.1916 64 bit (AMD64)]"
  },
  "orig_nbformat": 4,
  "vscode": {
   "interpreter": {
    "hash": "13fb4f61f9b1971e99363de4d9200a528ac37b1d4677b1025546b3653dbc06d9"
   }
  }
 },
 "nbformat": 4,
 "nbformat_minor": 2
}
